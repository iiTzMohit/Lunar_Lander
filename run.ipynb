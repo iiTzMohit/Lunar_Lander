{
 "cells": [
  {
   "cell_type": "code",
   "execution_count": null,
   "id": "7067a766-803d-4227-9190-6e3ef3d82b25",
   "metadata": {},
   "outputs": [],
   "source": [
    "#pip install pygame\n",
    "#pip install ufal.pybox2d"
   ]
  },
  {
   "cell_type": "code",
   "execution_count": null,
   "id": "417c84b0-db5a-497d-9ff2-a2bd1bf971fe",
   "metadata": {},
   "outputs": [],
   "source": [
    "import gymnasium as gym\n",
    "import numpy as np\n",
    "import tensorflow as tf\n",
    "import utils\n",
    "\n",
    "q_network = tf.keras.models.load_model('./lunar_lander_model.h5')"
   ]
  },
  {
   "cell_type": "code",
   "execution_count": null,
   "id": "a013978f-7ce8-4fda-bad5-c96c304fe229",
   "metadata": {},
   "outputs": [],
   "source": [
    "env = gym.make(\"LunarLander-v2\", render_mode = \"human\")\n",
    "state = env.reset()\n",
    "state = state[0]\n",
    "score = 0\n",
    "for _ in range(2000):\n",
    "    state_qn = np.expand_dims(state, axis=0)  # state needs to be the right shape for the q_network\n",
    "    q_values = q_network(state_qn)\n",
    "    action = utils.get_action(q_values, 0)\n",
    "    next_state, reward, done, _ ,_= env.step(action)\n",
    "    score+= reward\n",
    "    state = next_state.copy()\n",
    "    if done:\n",
    "        break\n",
    "        \n",
    "print(f\"Total reward of the agent: {score}\")\n",
    "env.close()"
   ]
  }
 ],
 "metadata": {
  "kernelspec": {
   "display_name": "Python 3 (ipykernel)",
   "language": "python",
   "name": "python3"
  },
  "language_info": {
   "codemirror_mode": {
    "name": "ipython",
    "version": 3
   },
   "file_extension": ".py",
   "mimetype": "text/x-python",
   "name": "python",
   "nbconvert_exporter": "python",
   "pygments_lexer": "ipython3",
   "version": "3.10.13"
  }
 },
 "nbformat": 4,
 "nbformat_minor": 5
}
